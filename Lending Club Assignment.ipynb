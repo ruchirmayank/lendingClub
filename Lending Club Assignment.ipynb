{
 "cells": [
  {
   "cell_type": "markdown",
   "metadata": {},
   "source": [
    "# Lending Club Case Study - Exploratory Data Analysis"
   ]
  },
  {
   "cell_type": "markdown",
   "metadata": {},
   "source": [
    "### Group Members \n",
    " - Ruchir Mayank\n",
    " - Srivishnu Ayyagari\n",
    "\n"
   ]
  },
  {
   "cell_type": "markdown",
   "metadata": {},
   "source": [
    "### Business Understanding:\n",
    "- Lending Club(LC) is a platform where borrower's can borrow money at lower interest rate.On the other hand LC allows investor to get better return based on the interest they choose to lend to the borrowers.\n",
    "- LC will make a loss when one or more borrowers start defaulting on the money to be repaid\n",
    "- In some cases LC is able to recover some amount via settlement but the amount that is not recovered will be loss to the company"
   ]
  },
  {
   "cell_type": "markdown",
   "metadata": {},
   "source": [
    "### Business Objectives\n",
    "- LC wants to analyse the factors that can help them decide if the borrowers are likely to default and hence take the decision based on such data.\n"
   ]
  },
  {
   "cell_type": "markdown",
   "metadata": {},
   "source": [
    "### Exploratory Data Analysis"
   ]
  },
  {
   "cell_type": "markdown",
   "metadata": {},
   "source": [
    "#### Data Sourcing and cleaning"
   ]
  },
  {
   "cell_type": "markdown",
   "metadata": {},
   "source": [
    "**Import required libraries**"
   ]
  },
  {
   "cell_type": "code",
   "execution_count": 151,
   "metadata": {},
   "outputs": [],
   "source": [
    "import numpy as np\n",
    "import pandas as pd\n",
    "import matplotlib.pyplot as plt\n",
    "import matplotlib.pyplot as plt\n",
    "from matplotlib import style\n",
    "import seaborn as sns\n",
    "sns.set(style='whitegrid')\n",
    "import re"
   ]
  },
  {
   "cell_type": "markdown",
   "metadata": {},
   "source": [
    "**Reading the loan data**"
   ]
  },
  {
   "cell_type": "code",
   "execution_count": 152,
   "metadata": {},
   "outputs": [
    {
     "data": {
      "text/plain": [
       "<bound method NDFrame.describe of             id  member_id  loan_amnt  funded_amnt  funded_amnt_inv  \\\n",
       "0      1077501    1296599       5000         5000           4975.0   \n",
       "1      1077430    1314167       2500         2500           2500.0   \n",
       "2      1077175    1313524       2400         2400           2400.0   \n",
       "3      1076863    1277178      10000        10000          10000.0   \n",
       "4      1075358    1311748       3000         3000           3000.0   \n",
       "...        ...        ...        ...          ...              ...   \n",
       "39712    92187      92174       2500         2500           1075.0   \n",
       "39713    90665      90607       8500         8500            875.0   \n",
       "39714    90395      90390       5000         5000           1325.0   \n",
       "39715    90376      89243       5000         5000            650.0   \n",
       "39716    87023      86999       7500         7500            800.0   \n",
       "\n",
       "             term int_rate  installment grade sub_grade  ...  \\\n",
       "0       36 months   10.65%       162.87     B        B2  ...   \n",
       "1       60 months   15.27%        59.83     C        C4  ...   \n",
       "2       36 months   15.96%        84.33     C        C5  ...   \n",
       "3       36 months   13.49%       339.31     C        C1  ...   \n",
       "4       60 months   12.69%        67.79     B        B5  ...   \n",
       "...           ...      ...          ...   ...       ...  ...   \n",
       "39712   36 months    8.07%        78.42     A        A4  ...   \n",
       "39713   36 months   10.28%       275.38     C        C1  ...   \n",
       "39714   36 months    8.07%       156.84     A        A4  ...   \n",
       "39715   36 months    7.43%       155.38     A        A2  ...   \n",
       "39716   36 months   13.75%       255.43     E        E2  ...   \n",
       "\n",
       "      num_tl_90g_dpd_24m num_tl_op_past_12m pct_tl_nvr_dlq  percent_bc_gt_75  \\\n",
       "0                    NaN                NaN            NaN               NaN   \n",
       "1                    NaN                NaN            NaN               NaN   \n",
       "2                    NaN                NaN            NaN               NaN   \n",
       "3                    NaN                NaN            NaN               NaN   \n",
       "4                    NaN                NaN            NaN               NaN   \n",
       "...                  ...                ...            ...               ...   \n",
       "39712                NaN                NaN            NaN               NaN   \n",
       "39713                NaN                NaN            NaN               NaN   \n",
       "39714                NaN                NaN            NaN               NaN   \n",
       "39715                NaN                NaN            NaN               NaN   \n",
       "39716                NaN                NaN            NaN               NaN   \n",
       "\n",
       "      pub_rec_bankruptcies tax_liens tot_hi_cred_lim total_bal_ex_mort  \\\n",
       "0                      0.0       0.0             NaN               NaN   \n",
       "1                      0.0       0.0             NaN               NaN   \n",
       "2                      0.0       0.0             NaN               NaN   \n",
       "3                      0.0       0.0             NaN               NaN   \n",
       "4                      0.0       0.0             NaN               NaN   \n",
       "...                    ...       ...             ...               ...   \n",
       "39712                  NaN       NaN             NaN               NaN   \n",
       "39713                  NaN       NaN             NaN               NaN   \n",
       "39714                  NaN       NaN             NaN               NaN   \n",
       "39715                  NaN       NaN             NaN               NaN   \n",
       "39716                  NaN       NaN             NaN               NaN   \n",
       "\n",
       "      total_bc_limit total_il_high_credit_limit  \n",
       "0                NaN                        NaN  \n",
       "1                NaN                        NaN  \n",
       "2                NaN                        NaN  \n",
       "3                NaN                        NaN  \n",
       "4                NaN                        NaN  \n",
       "...              ...                        ...  \n",
       "39712            NaN                        NaN  \n",
       "39713            NaN                        NaN  \n",
       "39714            NaN                        NaN  \n",
       "39715            NaN                        NaN  \n",
       "39716            NaN                        NaN  \n",
       "\n",
       "[39717 rows x 111 columns]>"
      ]
     },
     "execution_count": 152,
     "metadata": {},
     "output_type": "execute_result"
    }
   ],
   "source": [
    "loan=pd.read_csv('C:/Users/ruchirm/Documents/UpGrad/Assignments/Lending club/loan.csv',encoding='ISO-8859-1',low_memory=False)\n",
    "#have to set low-memory as false as the col 47 have mixed data type and read_csv is not able to process it without this option\n",
    "loan.shape\n",
    "loan.describe"
   ]
  },
  {
   "cell_type": "markdown",
   "metadata": {},
   "source": [
    "**Data Cleaning**"
   ]
  },
  {
   "cell_type": "markdown",
   "metadata": {},
   "source": [
    "We will first try to find out how many columns have missing or null values and what percentageof the values are missing in respective columns. Depending on the outcome we will decide if we want to fill the missing values or we want to remove them from our analysis."
   ]
  },
  {
   "cell_type": "code",
   "execution_count": 153,
   "metadata": {},
   "outputs": [
    {
     "data": {
      "text/plain": [
       "desc                               32.58\n",
       "mths_since_last_delinq             64.66\n",
       "mths_since_last_record             92.99\n",
       "next_pymnt_d                       97.13\n",
       "mths_since_last_major_derog       100.00\n",
       "annual_inc_joint                  100.00\n",
       "dti_joint                         100.00\n",
       "verification_status_joint         100.00\n",
       "tot_coll_amt                      100.00\n",
       "tot_cur_bal                       100.00\n",
       "open_acc_6m                       100.00\n",
       "open_il_6m                        100.00\n",
       "open_il_12m                       100.00\n",
       "open_il_24m                       100.00\n",
       "mths_since_rcnt_il                100.00\n",
       "total_bal_il                      100.00\n",
       "il_util                           100.00\n",
       "open_rv_12m                       100.00\n",
       "open_rv_24m                       100.00\n",
       "max_bal_bc                        100.00\n",
       "all_util                          100.00\n",
       "total_rev_hi_lim                  100.00\n",
       "inq_fi                            100.00\n",
       "total_cu_tl                       100.00\n",
       "inq_last_12m                      100.00\n",
       "acc_open_past_24mths              100.00\n",
       "avg_cur_bal                       100.00\n",
       "bc_open_to_buy                    100.00\n",
       "bc_util                           100.00\n",
       "mo_sin_old_il_acct                100.00\n",
       "mo_sin_old_rev_tl_op              100.00\n",
       "mo_sin_rcnt_rev_tl_op             100.00\n",
       "mo_sin_rcnt_tl                    100.00\n",
       "mort_acc                          100.00\n",
       "mths_since_recent_bc              100.00\n",
       "mths_since_recent_bc_dlq          100.00\n",
       "mths_since_recent_inq             100.00\n",
       "mths_since_recent_revol_delinq    100.00\n",
       "num_accts_ever_120_pd             100.00\n",
       "num_actv_bc_tl                    100.00\n",
       "num_actv_rev_tl                   100.00\n",
       "num_bc_sats                       100.00\n",
       "num_bc_tl                         100.00\n",
       "num_il_tl                         100.00\n",
       "num_op_rev_tl                     100.00\n",
       "num_rev_accts                     100.00\n",
       "num_rev_tl_bal_gt_0               100.00\n",
       "num_sats                          100.00\n",
       "num_tl_120dpd_2m                  100.00\n",
       "num_tl_30dpd                      100.00\n",
       "num_tl_90g_dpd_24m                100.00\n",
       "num_tl_op_past_12m                100.00\n",
       "pct_tl_nvr_dlq                    100.00\n",
       "percent_bc_gt_75                  100.00\n",
       "tot_hi_cred_lim                   100.00\n",
       "total_bal_ex_mort                 100.00\n",
       "total_bc_limit                    100.00\n",
       "total_il_high_credit_limit        100.00\n",
       "dtype: float64"
      ]
     },
     "execution_count": 153,
     "metadata": {},
     "output_type": "execute_result"
    }
   ],
   "source": [
    "nullValuePercentagePerColumn=round(loan.isnull().sum()/len(loan.id),4)*100\n",
    "#nullValuePercentagePerColumn.loc[nullValuePercentagePerColumn>0]\n",
    "nullValuePercentagePerColumn.loc[nullValuePercentagePerColumn>10]"
   ]
  },
  {
   "cell_type": "markdown",
   "metadata": {},
   "source": [
    "We can see from above output that there are 54 column where 100% of the data is missing and there are additional 4 columns where more than 30% of the data is missing. We will drop these columns from our analysis"
   ]
  },
  {
   "cell_type": "code",
   "execution_count": 154,
   "metadata": {},
   "outputs": [
    {
     "data": {
      "text/plain": [
       "(39717, 53)"
      ]
     },
     "execution_count": 154,
     "metadata": {},
     "output_type": "execute_result"
    }
   ],
   "source": [
    "columnWithNullvalue=list(nullValuePercentagePerColumn[nullValuePercentagePerColumn>=30].index)\n",
    "#len(columnWithNullvalue)\n",
    "loan.drop(columnWithNullvalue,axis=1,inplace=True)\n",
    "loan.shape"
   ]
  },
  {
   "cell_type": "markdown",
   "metadata": {},
   "source": [
    "We will also look into the column where the unique value is same, in that case that copluimn does not adds any value to the analysis"
   ]
  },
  {
   "cell_type": "code",
   "execution_count": 155,
   "metadata": {},
   "outputs": [
    {
     "data": {
      "text/plain": [
       "pymnt_plan                    1\n",
       "initial_list_status           1\n",
       "collections_12_mths_ex_med    1\n",
       "policy_code                   1\n",
       "application_type              1\n",
       "acc_now_delinq                1\n",
       "chargeoff_within_12_mths      1\n",
       "delinq_amnt                   1\n",
       "tax_liens                     1\n",
       "dtype: int64"
      ]
     },
     "execution_count": 155,
     "metadata": {},
     "output_type": "execute_result"
    }
   ],
   "source": [
    "uniqueValuePerColumn=loan.nunique()\n",
    "uniqueValuePerColumn=uniqueValuePerColumn[uniqueValuePerColumn.values == 1]\n",
    "uniqueValuePerColumn"
   ]
  },
  {
   "cell_type": "markdown",
   "metadata": {},
   "source": [
    "Let's drop the above columns"
   ]
  },
  {
   "cell_type": "code",
   "execution_count": 156,
   "metadata": {},
   "outputs": [
    {
     "data": {
      "text/plain": [
       "(39717, 44)"
      ]
     },
     "execution_count": 156,
     "metadata": {},
     "output_type": "execute_result"
    }
   ],
   "source": [
    "loan.drop(labels = list(uniqueValuePerColumn.index),axis=1,inplace=True)\n",
    "loan.shape"
   ]
  },
  {
   "cell_type": "markdown",
   "metadata": {},
   "source": [
    "44 columns are remianing, we will examine remaining column for null values"
   ]
  },
  {
   "cell_type": "code",
   "execution_count": 157,
   "metadata": {},
   "outputs": [
    {
     "data": {
      "text/plain": [
       "emp_title               6.19\n",
       "emp_length              2.71\n",
       "title                   0.03\n",
       "revol_util              0.13\n",
       "last_pymnt_d            0.18\n",
       "last_credit_pull_d      0.01\n",
       "pub_rec_bankruptcies    1.75\n",
       "dtype: float64"
      ]
     },
     "execution_count": 157,
     "metadata": {},
     "output_type": "execute_result"
    }
   ],
   "source": [
    "nullValuePercentagePerColumn=round(loan.isnull().sum()/len(loan.id),4)*100\n",
    "nullValuePercentagePerColumn[nullValuePercentagePerColumn>0]"
   ]
  },
  {
   "cell_type": "markdown",
   "metadata": {},
   "source": [
    "- We will analyse the unique value for each of the aformentioned columns with missing or null values\n",
    "- From the data dictionary file we understand that the **emp_title** and **title** are free string that teh borrower provide. We will make an assumption that it will be hard to make a categorical decision based on these and hence we will drop the rows with null/missing values for these columns.\n",
    "- Since the percentage of null/missing valuses for these coulmns are very less , I will still like to keep the column for future refrence\n",
    "- **emp_length** column provides information about how long the borrower has beenn employeed. This information may be usefull but there is no additional information provided based on which we can fill teh missing value. So we will drop the rows with missing value for this also"
   ]
  },
  {
   "cell_type": "code",
   "execution_count": 158,
   "metadata": {},
   "outputs": [
    {
     "data": {
      "text/plain": [
       "(37193, 44)"
      ]
     },
     "execution_count": 158,
     "metadata": {},
     "output_type": "execute_result"
    }
   ],
   "source": [
    "loan=loan[~loan.emp_title.isnull()]\n",
    "loan=loan[~loan.title.isnull()]\n",
    "loan=loan[~loan.emp_length.isnull()]\n",
    "loan.shape"
   ]
  },
  {
   "cell_type": "markdown",
   "metadata": {},
   "source": [
    "Let's look into the unique values for columns which are not free strings"
   ]
  },
  {
   "cell_type": "code",
   "execution_count": 159,
   "metadata": {},
   "outputs": [
    {
     "data": {
      "text/plain": [
       "array(['< 1 year', '10+ years', '1 year', '3 years', '8 years', '9 years',\n",
       "       '5 years', '4 years', '6 years', '2 years', '7 years'],\n",
       "      dtype=object)"
      ]
     },
     "execution_count": 159,
     "metadata": {},
     "output_type": "execute_result"
    }
   ],
   "source": [
    "loan.emp_length.unique()"
   ]
  },
  {
   "cell_type": "code",
   "execution_count": 160,
   "metadata": {},
   "outputs": [
    {
     "data": {
      "text/plain": [
       "array(['9.40%', '21%', '53.90%', ..., '49.63%', '0.04%', '7.28%'],\n",
       "      dtype=object)"
      ]
     },
     "execution_count": 160,
     "metadata": {},
     "output_type": "execute_result"
    }
   ],
   "source": [
    "loan.revol_util.unique()"
   ]
  },
  {
   "cell_type": "code",
   "execution_count": 161,
   "metadata": {},
   "outputs": [
    {
     "data": {
      "text/plain": [
       "array(['Apr-13', 'Jan-15', 'May-16', 'Nov-12', 'Jun-13', 'Sep-13',\n",
       "       'Jul-12', 'Oct-13', 'May-13', 'Feb-15', 'Aug-15', 'Oct-12',\n",
       "       'Sep-12', nan, 'Dec-12', 'Dec-14', 'Aug-13', 'Nov-13', 'Jan-14',\n",
       "       'Apr-14', 'Aug-14', 'Oct-14', 'Aug-12', 'Jul-14', 'Jul-13',\n",
       "       'Jan-16', 'Apr-15', 'Feb-14', 'Sep-14', 'Jun-12', 'Feb-13',\n",
       "       'Mar-13', 'May-14', 'Mar-15', 'Jan-13', 'Dec-13', 'Jun-14',\n",
       "       'Feb-12', 'Mar-14', 'Apr-12', 'Sep-15', 'Nov-15', 'Mar-16',\n",
       "       'Feb-16', 'Jan-12', 'Oct-15', 'Nov-14', 'Mar-12', 'May-12',\n",
       "       'Apr-16', 'Dec-15', 'Jun-15', 'May-15', 'Jul-15', 'Dec-11',\n",
       "       'Nov-11', 'Oct-11', 'Sep-11', 'Aug-11', 'Jul-11', 'Jun-11',\n",
       "       'May-11', 'Apr-11', 'Mar-11', 'Feb-11', 'Jan-11', 'Dec-10',\n",
       "       'Nov-10', 'Oct-10', 'Sep-10', 'Aug-10', 'Jul-10', 'Jun-10',\n",
       "       'May-10', 'Apr-10', 'Mar-10', 'Feb-10', 'Jan-10', 'Dec-09',\n",
       "       'Nov-09', 'Oct-09', 'Sep-09', 'Aug-09', 'Jul-09', 'Jun-09',\n",
       "       'May-09', 'Apr-09', 'Mar-09', 'Feb-09', 'Jan-09', 'Dec-08',\n",
       "       'Oct-08', 'Aug-08', 'Jul-08', 'Sep-08', 'Jun-08', 'May-08',\n",
       "       'Nov-08', 'Apr-08', 'Mar-08', 'Feb-08', 'Jan-08'], dtype=object)"
      ]
     },
     "execution_count": 161,
     "metadata": {},
     "output_type": "execute_result"
    }
   ],
   "source": [
    "loan.last_pymnt_d.unique()"
   ]
  },
  {
   "cell_type": "code",
   "execution_count": 162,
   "metadata": {},
   "outputs": [
    {
     "data": {
      "text/plain": [
       "array(['Sep-13', 'Apr-16', 'May-16', 'Jan-16', 'Dec-14', 'Mar-13',\n",
       "       'Dec-15', 'Aug-13', 'Nov-12', 'Mar-14', 'Apr-15', 'May-14',\n",
       "       'Jul-15', 'Feb-16', 'Mar-16', 'Sep-12', 'May-13', 'Jan-15',\n",
       "       'Jun-12', 'Mar-15', 'Dec-12', 'Sep-14', 'Feb-14', 'Jun-15',\n",
       "       'Oct-13', 'Apr-14', 'Oct-14', 'Feb-13', 'Nov-15', 'Jul-14',\n",
       "       'Sep-15', 'Oct-12', 'Nov-13', 'Nov-14', 'Feb-12', 'Oct-15',\n",
       "       'Apr-12', 'Aug-15', 'Jun-14', 'Aug-12', 'Jan-12', 'Aug-14',\n",
       "       'Jun-13', 'Dec-13', 'May-12', 'Jul-12', 'Jan-14', 'Jul-13',\n",
       "       'Apr-13', 'May-15', 'Feb-15', 'Mar-12', 'Nov-11', 'Dec-11',\n",
       "       'Oct-11', 'Sep-11', 'Jan-13', 'Aug-11', 'Jul-11', 'Jun-11',\n",
       "       'May-11', 'Apr-11', 'Mar-11', 'Feb-11', 'Jan-11', 'Dec-10',\n",
       "       'Nov-10', 'Oct-10', 'Sep-10', 'Aug-10', 'Jul-10', 'Jun-10',\n",
       "       'May-10', 'Apr-10', 'Feb-10', 'Mar-10', 'Jan-10', 'Dec-09',\n",
       "       'Nov-09', 'Oct-09', 'Sep-09', 'Jul-09', 'Aug-09', 'May-09',\n",
       "       'Jun-09', 'Apr-09', 'Mar-09', 'Feb-09', 'Jan-09', 'Dec-08',\n",
       "       'Jun-08', 'Sep-08', 'May-08', 'Aug-08', 'Mar-08', 'Oct-08',\n",
       "       'Feb-08', 'Jan-08', 'Dec-07', 'Jul-08', 'Oct-07', 'Sep-07',\n",
       "       'Aug-07', 'Jun-07', 'May-07', 'Jul-07'], dtype=object)"
      ]
     },
     "execution_count": 162,
     "metadata": {},
     "output_type": "execute_result"
    }
   ],
   "source": [
    "loan.last_credit_pull_d.unique()"
   ]
  },
  {
   "cell_type": "code",
   "execution_count": 163,
   "metadata": {},
   "outputs": [
    {
     "data": {
      "text/plain": [
       "array([ 0.,  1.,  2., nan])"
      ]
     },
     "execution_count": 163,
     "metadata": {},
     "output_type": "execute_result"
    }
   ],
   "source": [
    "loan.pub_rec_bankruptcies.unique()   "
   ]
  },
  {
   "cell_type": "markdown",
   "metadata": {},
   "source": [
    "Let's remove  the rows with null values in the above columns\n"
   ]
  },
  {
   "cell_type": "code",
   "execution_count": 164,
   "metadata": {},
   "outputs": [
    {
     "data": {
      "text/plain": [
       "(36433, 44)"
      ]
     },
     "execution_count": 164,
     "metadata": {},
     "output_type": "execute_result"
    }
   ],
   "source": [
    "loan=loan[~loan.revol_util.isnull()]\n",
    "loan=loan[~loan.last_pymnt_d.isnull()]\n",
    "loan=loan[~loan.last_credit_pull_d.isnull()]\n",
    "loan=loan[~loan.pub_rec_bankruptcies.isnull()]\n",
    "loan.shape"
   ]
  },
  {
   "cell_type": "markdown",
   "metadata": {},
   "source": [
    "At this point I will fall back to some manual interpetation by looking into the data dictonary file and checking if any of  the remaining columns are required."
   ]
  },
  {
   "cell_type": "code",
   "execution_count": 165,
   "metadata": {},
   "outputs": [
    {
     "data": {
      "text/plain": [
       "term                           2\n",
       "pub_rec_bankruptcies           3\n",
       "loan_status                    3\n",
       "verification_status            3\n",
       "home_ownership                 4\n",
       "pub_rec                        5\n",
       "grade                          7\n",
       "inq_last_6mths                 9\n",
       "delinq_2yrs                   11\n",
       "emp_length                    11\n",
       "purpose                       14\n",
       "sub_grade                     35\n",
       "open_acc                      38\n",
       "addr_state                    49\n",
       "issue_d                       52\n",
       "total_acc                     79\n",
       "last_credit_pull_d            96\n",
       "last_pymnt_d                  97\n",
       "int_rate                     334\n",
       "earliest_cr_line             510\n",
       "zip_code                     806\n",
       "loan_amnt                    863\n",
       "funded_amnt                 1024\n",
       "out_prncp                   1064\n",
       "out_prncp_inv               1065\n",
       "revol_util                  1082\n",
       "total_rec_late_fee          1194\n",
       "collection_recovery_fee     2386\n",
       "dti                         2857\n",
       "recoveries                  3585\n",
       "annual_inc                  4924\n",
       "total_rec_prncp             7254\n",
       "funded_amnt_inv             7474\n",
       "installment                14367\n",
       "title                      17954\n",
       "revol_bal                  20790\n",
       "emp_title                  28207\n",
       "last_pymnt_amnt            32467\n",
       "total_rec_int              32523\n",
       "total_pymnt_inv            34524\n",
       "total_pymnt                34802\n",
       "member_id                  36433\n",
       "url                        36433\n",
       "id                         36433\n",
       "dtype: int64"
      ]
     },
     "execution_count": 165,
     "metadata": {},
     "output_type": "execute_result"
    }
   ],
   "source": [
    "loan.nunique().sort_values()"
   ]
  },
  {
   "cell_type": "markdown",
   "metadata": {},
   "source": [
    "**id**:A unique LC assigned ID for the loan listing.<br>\n",
    "**member_id**: A unique LC assigned Id for the borrower member.<br>\n",
    "**url**:A unique LC assigned Id for the borrower member.<br>\n",
    "    \n",
    "The above values are just additional attribute which does not have any corelation with the borrower or lender patterns. So these should be safe to remove.\n",
    "\n",
    "<br>**funded_amnt**: The value is almost same as the loan amount\n",
    "<br>**funded_amt_inv**: The value is almost same as the loan amount\n",
    "\n",
    "These values  may cause a small varitaionin anakysis but since for majority of the data value remains the same these will have negligible impact and hence safe to drop.\n",
    "     \n",
    "   "
   ]
  },
  {
   "cell_type": "code",
   "execution_count": 166,
   "metadata": {},
   "outputs": [
    {
     "data": {
      "text/plain": [
       "(36433, 39)"
      ]
     },
     "execution_count": 166,
     "metadata": {},
     "output_type": "execute_result"
    }
   ],
   "source": [
    "dropColumns=['id','member_id','url','funded_amnt','funded_amnt_inv']\n",
    "loan.drop(dropColumns,axis=1,inplace=True)\n",
    "loan.shape"
   ]
  },
  {
   "cell_type": "markdown",
   "metadata": {},
   "source": [
    "From the data dict file we saw that emp length can take values from 0 to 10 but from previous analysis we see that thecolumn has mix representation in values. So we will stndarise teh values from 0 to 10"
   ]
  },
  {
   "cell_type": "code",
   "execution_count": 167,
   "metadata": {},
   "outputs": [],
   "source": [
    "empLengthDef = {\n",
    "    '< 1 year' : 0,\n",
    "    '1 year' : 1,\n",
    "    '2 years' : 2,\n",
    "    '3 years' : 3,\n",
    "    '4 years' : 4,\n",
    "    '5 years' : 5,\n",
    "    '6 years' : 6,\n",
    "    '7 years' : 7,\n",
    "    '8 years' : 8,\n",
    "    '9 years' : 9,\n",
    "    '10+ years' : 10\n",
    "}\n",
    "loan.replace({'emp_length':empLengthDef},inplace=True)"
   ]
  },
  {
   "cell_type": "markdown",
   "metadata": {},
   "source": [
    "Till now we have reduced the dataset to 399 columns. But the data in each of the columns are not in a standard format.\n",
    "Similar to what we have doen for emp_length we will have to analyse the columns and stadarise the values"
   ]
  },
  {
   "cell_type": "code",
   "execution_count": 168,
   "metadata": {},
   "outputs": [
    {
     "data": {
      "text/plain": [
       "11196.569430    26\n",
       "11784.232230    16\n",
       "13148.137860    15\n",
       "10956.775960    13\n",
       "5478.387981     13\n",
       "Name: total_pymnt, dtype: int64"
      ]
     },
     "execution_count": 168,
     "metadata": {},
     "output_type": "execute_result"
    }
   ],
   "source": [
    "loan.total_pymnt.value_counts().head()"
   ]
  },
  {
   "cell_type": "code",
   "execution_count": 134,
   "metadata": {},
   "outputs": [
    {
     "data": {
      "text/plain": [
       "0.0     34618\n",
       "15.0      224\n",
       "30.0       51\n",
       "15.0       49\n",
       "15.0       42\n",
       "Name: total_rec_late_fee, dtype: int64"
      ]
     },
     "execution_count": 134,
     "metadata": {},
     "output_type": "execute_result"
    }
   ],
   "source": [
    "loan.total_rec_late_fee.value_counts().head()"
   ]
  },
  {
   "cell_type": "code",
   "execution_count": 169,
   "metadata": {},
   "outputs": [
    {
     "data": {
      "text/plain": [
       "0.00    33100\n",
       "1.20       10\n",
       "2.00        9\n",
       "2.02        8\n",
       "1.69        8\n",
       "Name: collection_recovery_fee, dtype: int64"
      ]
     },
     "execution_count": 169,
     "metadata": {},
     "output_type": "execute_result"
    }
   ],
   "source": [
    "loan.collection_recovery_fee.value_counts().head()"
   ]
  },
  {
   "cell_type": "markdown",
   "metadata": {},
   "source": [
    "We will keep the precsion to 2 decimial poinyts for above columns"
   ]
  },
  {
   "cell_type": "code",
   "execution_count": 170,
   "metadata": {},
   "outputs": [],
   "source": [
    "loan.total_pymnt=round(loan.total_pymnt,2)\n",
    "loan.total_rec_late_fee= round(loan.total_rec_late_fee,2)\n",
    "loan.collection_recovery_fee= round(loan.collection_recovery_fee,2)\n",
    "#loan.collection_recovery_fee.value_counts().head()"
   ]
  },
  {
   "cell_type": "markdown",
   "metadata": {},
   "source": [
    "Similarly we will standarise any date time column to standard dattime format of **mon-year**<br>\n",
    "Refernce to do this : https://stackabuse.com/how-to-format-dates-in-python/"
   ]
  },
  {
   "cell_type": "code",
   "execution_count": 142,
   "metadata": {},
   "outputs": [],
   "source": [
    "loan.issue_d = pd.to_datetime(loan.issue_d, format='%b-%y')\n",
    "loan.earliest_cr_line = pd.to_datetime(loan.earliest_cr_line, format='%b-%y')\n",
    "loan.last_pymnt_d = pd.to_datetime(loan.last_pymnt_d, format='%b-%y')\n",
    "loan.last_credit_pull_d = pd.to_datetime(loan.last_credit_pull_d, format='%b-%y')"
   ]
  },
  {
   "cell_type": "markdown",
   "metadata": {},
   "source": [
    "Looking into the loan.csv file and checking teh columns we see few more anamolies in data that needs to be fixed.\n",
    "Doing  those belows along with inline comments for easier reference"
   ]
  },
  {
   "cell_type": "code",
   "execution_count": 175,
   "metadata": {},
   "outputs": [
    {
     "data": {
      "text/plain": [
       "36    26377\n",
       "60    10056\n",
       "Name: term, dtype: int64"
      ]
     },
     "execution_count": 175,
     "metadata": {},
     "output_type": "execute_result"
    }
   ],
   "source": [
    "loan.term.value_counts()#removingthe \"month\" string from column\n",
    "#loan['term']=loan['term'].replace(\"month\",'',regex=True)\n",
    "# The replace function is somehow adding s at the end. Hence I am using brute force to split based on the pattern\n",
    "loan['term'] = loan.term.apply(lambda x: x.split()[0])\n",
    "loan.term.value_counts()"
   ]
  },
  {
   "cell_type": "markdown",
   "metadata": {},
   "source": [
    "This seems to be the last of cleaning effort. Removing % from rate columns. If anyting is left we will update when we encounter the occurrence"
   ]
  },
  {
   "cell_type": "code",
   "execution_count": 177,
   "metadata": {},
   "outputs": [
    {
     "data": {
      "text/plain": [
       "1    15.27%\n",
       "3    13.49%\n",
       "4    12.69%\n",
       "5     7.90%\n",
       "6    15.96%\n",
       "Name: int_rate, dtype: object"
      ]
     },
     "execution_count": 177,
     "metadata": {},
     "output_type": "execute_result"
    }
   ],
   "source": [
    "loan.int_rate.head()"
   ]
  },
  {
   "cell_type": "code",
   "execution_count": 178,
   "metadata": {},
   "outputs": [
    {
     "data": {
      "text/plain": [
       "1     9.40%\n",
       "3       21%\n",
       "4    53.90%\n",
       "5    28.30%\n",
       "6    85.60%\n",
       "Name: revol_util, dtype: object"
      ]
     },
     "execution_count": 178,
     "metadata": {},
     "output_type": "execute_result"
    }
   ],
   "source": [
    "loan.revol_util.head()"
   ]
  },
  {
   "cell_type": "code",
   "execution_count": 181,
   "metadata": {},
   "outputs": [],
   "source": [
    "loan['int_rate'] = loan.int_rate.apply(lambda x: x.split('%')[0])\n",
    "loan['revol_util']=loan.revol_util.apply(lambda x: x.split('%')[0])\n",
    "#loan.revol_util.head()"
   ]
  },
  {
   "cell_type": "markdown",
   "metadata": {},
   "source": [
    "### Derived Metrics\n",
    "We have cleaned up the data now we should derive certain columns that will help us in doing the analysis"
   ]
  },
  {
   "cell_type": "code",
   "execution_count": null,
   "metadata": {},
   "outputs": [],
   "source": []
  }
 ],
 "metadata": {
  "kernelspec": {
   "display_name": "Python 3",
   "language": "python",
   "name": "python3"
  },
  "language_info": {
   "codemirror_mode": {
    "name": "ipython",
    "version": 3
   },
   "file_extension": ".py",
   "mimetype": "text/x-python",
   "name": "python",
   "nbconvert_exporter": "python",
   "pygments_lexer": "ipython3",
   "version": "3.7.6"
  }
 },
 "nbformat": 4,
 "nbformat_minor": 4
}
